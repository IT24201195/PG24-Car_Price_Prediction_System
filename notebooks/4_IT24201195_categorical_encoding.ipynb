{
 "cells": [
  {
   "cell_type": "markdown",
   "id": "91844075",
   "metadata": {},
   "source": [
    "\n",
    "# Encoding Categorical Variables\n",
    "\n",
    "**Author:** IT24201195 – Palugaswewa K.I.K.I. B\n",
    "\n",
    "This notebook groups rare car names and one‑hot encodes categorical features.\n"
   ]
  },
  {
   "cell_type": "code",
   "execution_count": null,
   "id": "5b737fb3",
   "metadata": {},
   "outputs": [],
   "source": [
    "\n",
    "import pandas as pd\n",
    "from sklearn.preprocessing import OneHotEncoder\n",
    "from sklearn.impute import SimpleImputer\n",
    "from sklearn.compose import ColumnTransformer\n",
    "from sklearn.pipeline import Pipeline\n",
    "import numpy as np\n",
    "import matplotlib.pyplot as plt\n",
    "\n",
    "train_df = pd.read_csv('../data/train-data.csv', index_col=False)\n",
    "test_df = pd.read_csv('../data/test-data.csv', index_col=False)\n",
    "\n",
    "for df in [train_df, test_df]:\n",
    "    if 'Unnamed: 0' in df.columns:\n",
    "        df.drop(columns=['Unnamed: 0'], inplace=True)\n",
    "    df.drop_duplicates(inplace=True)\n",
    "\n",
    "# Group top 50 names\n",
    "name_counts = train_df['Name'].value_counts()\n",
    "top_names = name_counts.nlargest(50).index.tolist()\n",
    "for df in [train_df, test_df]:\n",
    "    df['Name_Grouped'] = df['Name'].apply(lambda x: x if x in top_names else 'Other')\n",
    "\n",
    "categorical_features = ['Name_Grouped','Location','Fuel_Type','Transmission','Owner_Type']\n",
    "\n",
    "encoder = OneHotEncoder(handle_unknown='ignore', sparse=False)\n",
    "encoded_train = encoder.fit_transform(train_df[categorical_features])\n",
    "encoded_test = encoder.transform(test_df[categorical_features])\n",
    "\n",
    "print('Encoded train shape:', encoded_train.shape)\n"
   ]
  }
 ],
 "metadata": {},
 "nbformat": 4,
 "nbformat_minor": 5
}
