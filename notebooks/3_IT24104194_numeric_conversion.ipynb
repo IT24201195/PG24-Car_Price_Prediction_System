{
 "cells": [
  {
   "cell_type": "markdown",
   "id": "2a08c8c1",
   "metadata": {},
   "source": [
    "\n",
    "# Converting Textual Numeric Columns to Numeric\n",
    "\n",
    "**Author:** IT24104194 – Kirushayanan K.\n",
    "\n",
    "This notebook extracts numeric values from columns like `Mileage`, `Engine`, `Power` and `New_Price`.\n"
   ]
  },
  {
   "cell_type": "code",
   "execution_count": null,
   "id": "d7d68cd0",
   "metadata": {},
   "outputs": [],
   "source": [
    "\n",
    "import pandas as pd\n",
    "import numpy as np\n",
    "import re\n",
    "\n",
    "train_df = pd.read_csv('../data/train-data.csv', index_col=False)\n",
    "test_df = pd.read_csv('../data/test-data.csv', index_col=False)\n",
    "\n",
    "for df in [train_df, test_df]:\n",
    "    if 'Unnamed: 0' in df.columns:\n",
    "        df.drop(columns=['Unnamed: 0'], inplace=True)\n",
    "    df.drop_duplicates(inplace=True)\n",
    "\n",
    "def parse_numeric(value):\n",
    "    if pd.isnull(value):\n",
    "        return np.nan\n",
    "    match = re.search(r\"([0-9]*\\.?[0-9]+)\", str(value))\n",
    "    return float(match.group(1)) if match else np.nan\n",
    "\n",
    "def parse_price(value):\n",
    "    if pd.isnull(value):\n",
    "        return np.nan\n",
    "    match = re.search(r\"([0-9]*\\.?[0-9]+)\", str(value))\n",
    "    if match:\n",
    "        num = float(match.group(1))\n",
    "        if 'Cr' in str(value) or 'cr' in str(value).lower():\n",
    "            return num * 100\n",
    "        return num\n",
    "    return np.nan\n",
    "\n",
    "for df in [train_df, test_df]:\n",
    "    df['Mileage_Num'] = df['Mileage'].apply(parse_numeric)\n",
    "    df['Engine_CC'] = df['Engine'].apply(parse_numeric)\n",
    "    df['Power_BHP'] = df['Power'].apply(parse_numeric)\n",
    "    df['New_Price_Num'] = df['New_Price'].apply(parse_price)\n",
    "\n",
    "train_df[['Mileage','Mileage_Num','Engine','Engine_CC']].head()\n"
   ]
  }
 ],
 "metadata": {},
 "nbformat": 4,
 "nbformat_minor": 5
}
