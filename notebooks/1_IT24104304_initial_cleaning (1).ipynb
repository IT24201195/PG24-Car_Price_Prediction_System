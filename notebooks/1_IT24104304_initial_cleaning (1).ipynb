import pandas as pd
import matplotlib.pyplot as plt
import seaborn as sns

# Load the datasets from correct file paths
train_df = pd.read_csv('C:\\Users\\udara\\Desktop\\AIML\\train-data.csv', index_col=False)
test_df = pd.read_csv('C:\\Users\\udara\\Desktop\\AIML\\test-data.csv', index_col=False)

# Drop unnecessary index columns (like 'Unnamed: 0') if they exist
for df in [train_df, test_df]:
    if 'Unnamed: 0' in df.columns:
        df.drop(columns=['Unnamed: 0'], inplace=True)

# Drop duplicate rows from the training data
before = train_df.shape[0]
train_df = train_df.drop_duplicates()
after = train_df.shape[0]
print(f"Removed {before - after} duplicate rows")

# Preview cleaned training data
print("\nPreview of cleaned training data:")
print(train_df.head())

# Visualize distribution of 'Year' column after cleaning
if 'Year' in train_df.columns:
    plt.figure(figsize=(10, 6))
    sns.histplot(train_df['Year'], bins=30, kde=False)
    plt.title('Distribution of Year after Cleaning')
    plt.xlabel('Year')
    plt.ylabel('Count')
    plt.tight_layout()
    plt.show()
else:
    print("Column 'Year' not found in training data.")



# Visualize duplicates count
import seaborn as sns
sns.histplot(train_df['Year'], bins=30, kde=False)
plt.title('Distribution of Year after Cleaning')
plt.show()
