{
 "cells": [
  {
   "cell_type": "markdown",
   "id": "981be21c",
   "metadata": {},
   "source": [
    "\n",
    "# Initial Cleaning: Dropping Irrelevant Columns and Duplicates\n",
    "\n",
    "**Author:** IT24104304 – Kulasuriya W.N.N.\n",
    "\n",
    "This notebook removes the unused `Unnamed: 0` column and any duplicate rows from the dataset.  Removing irrelevant columns reduces dimensionality while dropping duplicate rows prevents bias introduced by repeated observations.\n"
   ]
  },
  {
   "cell_type": "code",
   "execution_count": null,
   "id": "9aac215c",
   "metadata": {},
   "outputs": [],
   "source": [
    "\n",
    "import pandas as pd\n",
    "import matplotlib.pyplot as plt\n",
    "\n",
    "train_df = pd.read_csv('../data/train-data.csv', index_col=False)\n",
    "test_df = pd.read_csv('../data/test-data.csv', index_col=False)\n",
    "\n",
    "# Drop index column\n",
    "for df in [train_df, test_df]:\n",
    "    if 'Unnamed: 0' in df.columns:\n",
    "        df.drop(columns=['Unnamed: 0'], inplace=True)\n",
    "\n",
    "# Drop duplicates from training data\n",
    "before = train_df.shape[0]\n",
    "train_df = train_df.drop_duplicates()\n",
    "after = train_df.shape[0]\n",
    "print(f\"Removed {before-after} duplicate rows\")\n",
    "\n",
    "# Preview cleaned data\n",
    "train_df.head()\n"
   ]
  },
  {
   "cell_type": "code",
   "execution_count": null,
   "id": "27c3fbb0",
   "metadata": {},
   "outputs": [],
   "source": [
    "\n",
    "# Visualize duplicates count\n",
    "import seaborn as sns\n",
    "sns.histplot(train_df['Year'], bins=30, kde=False)\n",
    "plt.title('Distribution of Year after Cleaning')\n",
    "plt.show()\n"
   ]
  }
 ],
 "metadata": {},
 "nbformat": 4,
 "nbformat_minor": 5
}
