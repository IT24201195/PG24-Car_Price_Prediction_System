import pandas as pd
import matplotlib.pyplot as plt

train_df = pd.read_csv('C:\\Users\\udara\\Desktop\\AIML\\train-data.csv', index_col=False)
test_df = pd.read_csv('C:\\Users\\udara\\Desktop\\AIML\\test-data.csv', index_col=False)


# Drop index column
for df in [train_df, test_df]:
    if 'Unnamed: 0' in df.columns:
        df.drop(columns=['Unnamed: 0'], inplace=True)

# Drop duplicates from training data
before = train_df.shape[0]
train_df = train_df.drop_duplicates()
after = train_df.shape[0]
print(f"Removed {before-after} duplicate rows")

# Preview cleaned data
train_df.head()



# Visualize duplicates count
import seaborn as sns
sns.histplot(train_df['Year'], bins=30, kde=False)
plt.title('Distribution of Year after Cleaning')
plt.show()
